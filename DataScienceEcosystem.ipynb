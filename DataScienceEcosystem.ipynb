{
 "cells": [
  {
   "cell_type": "markdown",
   "id": "234de83c",
   "metadata": {},
   "source": [
    "# Data Science Tools and Ecosystem"
   ]
  },
  {
   "cell_type": "markdown",
   "id": "74dcd1b3",
   "metadata": {},
   "source": [
    "In this notebook, Data Science Tools and Ecosystem are summarized.\n"
   ]
  },
  {
   "cell_type": "markdown",
   "id": "b7ae18ca",
   "metadata": {},
   "source": [
    "**Objectives:**\n",
    "\n",
    "* List popular languages of data sciences\n",
    "* List commonly used liberaries\n",
    "* Give examples of Python calculation"
   ]
  },
  {
   "cell_type": "markdown",
   "id": "7a866881",
   "metadata": {},
   "source": [
    "Some of the popular languages that Data Scientists use are:\n",
    "\n",
    "1. Python\n",
    "2. R\n",
    "3. Java\n",
    "4. Scale\n",
    "5. C++\n"
   ]
  },
  {
   "cell_type": "markdown",
   "id": "f43c181d",
   "metadata": {},
   "source": [
    "Some of the commonly used libraries used by Data Scientists include:\n",
    "\n",
    "1. pandas\n",
    "2. numpy\n",
    "3. pytorch\n",
    "4. seaborn\n"
   ]
  },
  {
   "cell_type": "markdown",
   "id": "df0435f9",
   "metadata": {},
   "source": [
    "<table align=\"left\">\n",
    "  <tr>\n",
    "    <th>Data Science Tools</th>\n",
    "  </tr>\n",
    "  <tr>\n",
    "    <td>Jupyter Notebook</td>\n",
    "  </tr>\n",
    "  <tr>\n",
    "    <td>Anaconda</td>\n",
    "  </tr>\n",
    "  <tr>\n",
    "    <td>Github</td>\n",
    "  </tr>\n",
    "</table>"
   ]
  },
  {
   "cell_type": "markdown",
   "id": "28be7b79",
   "metadata": {},
   "source": [
    "### Below are a few examples of evaluating arithmetic expressions in Python"
   ]
  },
  {
   "cell_type": "code",
   "execution_count": 6,
   "id": "f3710309",
   "metadata": {},
   "outputs": [
    {
     "data": {
      "text/plain": [
       "17"
      ]
     },
     "execution_count": 6,
     "metadata": {},
     "output_type": "execute_result"
    }
   ],
   "source": [
    "# This a simple arithmetic expression to mutiply then add integers\n",
    "(3*4)+5"
   ]
  },
  {
   "cell_type": "code",
   "execution_count": 8,
   "id": "f928dde7",
   "metadata": {},
   "outputs": [
    {
     "data": {
      "text/plain": [
       "3.3333333333333335"
      ]
     },
     "execution_count": 8,
     "metadata": {},
     "output_type": "execute_result"
    }
   ],
   "source": [
    "# This will convert 200 minutes to hours by diving by 60\n",
    "def min_to_hour(minutes):\n",
    "    hour = minutes / 60\n",
    "    return hour\n",
    "\n",
    "min_to_hour(200)\n"
   ]
  },
  {
   "cell_type": "markdown",
   "id": "5dfee0e7",
   "metadata": {},
   "source": [
    "## Author\n",
    "\n",
    "Bond"
   ]
  },
  {
   "cell_type": "code",
   "execution_count": null,
   "id": "a0260f9d",
   "metadata": {},
   "outputs": [],
   "source": []
  }
 ],
 "metadata": {
  "kernelspec": {
   "display_name": "Python 3 (ipykernel)",
   "language": "python",
   "name": "python3"
  },
  "language_info": {
   "codemirror_mode": {
    "name": "ipython",
    "version": 3
   },
   "file_extension": ".py",
   "mimetype": "text/x-python",
   "name": "python",
   "nbconvert_exporter": "python",
   "pygments_lexer": "ipython3",
   "version": "3.11.0"
  }
 },
 "nbformat": 4,
 "nbformat_minor": 5
}
